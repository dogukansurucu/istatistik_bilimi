{
 "cells": [
  {
   "cell_type": "markdown",
   "id": "6ad90b14-f57c-402a-b00b-298dee4d8a58",
   "metadata": {},
   "source": [
    "## **VERİ BİLİMİ İÇİN İSTATİSTİK GİRİŞ**"
   ]
  },
  {
   "cell_type": "markdown",
   "id": "1881b621-236b-43f6-b44a-5f67cf6c4019",
   "metadata": {},
   "source": [
    "> İstatistik doğru bir şekilde veri toplama ve verileri bilgiye dönüştürme bilimidir. İstatistik, verilerden öğrenebilmeyi, gözlemleri bilgiye dönüştürmeyi sağlar. Böylece, istatistiksel teknikler, belirsizliklerin varolduğu bir dünyada, bu belirsizlikleri temelde olasılık kavramı aracılığı ile kontrol altında tutar ve gözlemleri bilime dayalı bilgi ve yorum verir hale getirir."
   ]
  },
  {
   "cell_type": "markdown",
   "id": "ff2d477c-13c4-420d-97f2-629f29312ba4",
   "metadata": {},
   "source": [
    "* **Örnek Teorisi**\n",
    "* **Betimsel İstatistikler**\n",
    "* **Güven Aralıkları**\n",
    "* **Olasılık Dağılımları**\n",
    "* **Hipotez Testleri**\n",
    "* **Varyans Analizi**\n",
    "* **Korelasyon Analizi**"
   ]
  },
  {
   "cell_type": "markdown",
   "id": "99bf3948-8042-4d86-897a-989b28f9b85b",
   "metadata": {},
   "source": [
    "## **ÖRNEK TEORİSİ**"
   ]
  },
  {
   "cell_type": "code",
   "execution_count": 1,
   "id": "fc22a03a-1da5-4b48-aefd-8e38504c34f3",
   "metadata": {},
   "outputs": [],
   "source": [
    "import numpy as np"
   ]
  },
  {
   "cell_type": "code",
   "execution_count": 2,
   "id": "c6698534-c07e-4d46-81c0-791aeedba212",
   "metadata": {},
   "outputs": [],
   "source": [
    "populasyon = np.random.randint(0,500,10000)"
   ]
  },
  {
   "cell_type": "code",
   "execution_count": 3,
   "id": "5a009cfa-0226-4f77-b772-42ab57dbb882",
   "metadata": {},
   "outputs": [
    {
     "data": {
      "text/plain": [
       "array([369, 455, 384, 286, 497, 398, 431, 112,  57, 423])"
      ]
     },
     "execution_count": 3,
     "metadata": {},
     "output_type": "execute_result"
    }
   ],
   "source": [
    "populasyon[0:10]"
   ]
  },
  {
   "cell_type": "markdown",
   "id": "cc0dfa1d-af66-4085-a01c-373e64a3db64",
   "metadata": {},
   "source": [
    "> **np.random.seed nedir ?**\n",
    "* random fonksiyonu çalışırken sistem saatini kullanır ve bu sürekli değişken bir değerdir. bize rastgelelik sağlar.Bu blokları çalıştırıp yorum yapacağımızdan dolayı her çalıştırdığımızda değerlerin değişmesini istemediğimiz için sistem saati yerine sabit bir sayı veriyoruz.Bu sayede her çalıştırdığımızda aynı değerleri alıyoruz.\n",
    "* Mesela random.seed(35) seçtik diyelim. Bunu yaparken şunu demiş oluyoruz. Ben birazdan rastgele bir seçim yapacağım ama daha sonra aynı sayıları tekrar kullanmak istiyorum. Ben ne zaman seed(35) dersem bunu dedikten sonraki seçim işleminde bana o aynı sayıları getir. Bir nevi sayılar kaybolmasın diye kendi belirlediğimiz bir kutunun içine o sayıları koyuyoruz gibi düşünülebilir."
   ]
  },
  {
   "cell_type": "code",
   "execution_count": 4,
   "id": "41a4cc27-4379-4e78-a5d1-e30cfb929a1d",
   "metadata": {},
   "outputs": [
    {
     "data": {
      "text/plain": [
       "array([488, 172,  12, 303, 113, 467, 221, 465,  19, 408, 468, 137, 305,\n",
       "       318, 270, 351,  57, 424, 230,  98])"
      ]
     },
     "execution_count": 4,
     "metadata": {},
     "output_type": "execute_result"
    }
   ],
   "source": [
    "# Örneklem Çekimi\n",
    "np.random.seed(21)\n",
    "orneklem = np.random.choice(a = populasyon,size = 100)\n",
    "orneklem[0:20]"
   ]
  },
  {
   "cell_type": "code",
   "execution_count": 5,
   "id": "9c0edc26-8b0a-42bd-a167-bff045fc5ff2",
   "metadata": {},
   "outputs": [
    {
     "data": {
      "text/plain": [
       "244.58"
      ]
     },
     "execution_count": 5,
     "metadata": {},
     "output_type": "execute_result"
    }
   ],
   "source": [
    "orneklem.mean()"
   ]
  },
  {
   "cell_type": "code",
   "execution_count": 6,
   "id": "ca67d07f-4c56-45c7-a4e3-5199b373882d",
   "metadata": {},
   "outputs": [
    {
     "data": {
      "text/plain": [
       "250.0586"
      ]
     },
     "execution_count": 6,
     "metadata": {},
     "output_type": "execute_result"
    }
   ],
   "source": [
    "populasyon.mean()"
   ]
  },
  {
   "cell_type": "markdown",
   "id": "607ada9d-26b1-4e8f-a302-5cf79729c6d2",
   "metadata": {},
   "source": [
    "**Özetleyecek olursak, örneklemler popülasyonların alt kümeleridir. Bir örneklemin ortalamasını aldığımızda popülasyonun ortalamasına yakın olduğunu görürüz.Aynı popülasyonun farklı 2 örneklemin ortalamaları farklı çıkabilir. Bu popülasyondan alınan değerlere göre değişir.Sonuç olarak biz örneklemin ortalamasına bakarak popüslasyon dediğimiz ana verinin ortalaması üzerine yorum yapabiliriz.**"
   ]
  },
  {
   "cell_type": "markdown",
   "id": "1be1bb66-9247-46c5-8c1e-d6a8c7503a59",
   "metadata": {},
   "source": [
    "## **BETİMSEL İSTATİSTİKLER**"
   ]
  },
  {
   "cell_type": "markdown",
   "id": "681cb3fc-cdc2-422d-bed0-e52aac49859b",
   "metadata": {},
   "source": [
    "* Ortalama\n",
    "* Medyan\n",
    "* Mod\n",
    "* Kartiller\n",
    "* Değişim Aralığı\n",
    "* Standart Sapma\n",
    "* Varyans\n",
    "* Çarpıklık\n",
    "* Basıklık\n",
    "* Kovaryans\n",
    "* Korelasyon"
   ]
  },
  {
   "cell_type": "code",
   "execution_count": 11,
   "id": "52e31ea8-6e20-4474-a49e-7f613580ea35",
   "metadata": {},
   "outputs": [],
   "source": [
    "# DİKKAT !!! Betimsel istatistiklerden bahsederken jupyter notebook ortamı gereği formülleri burada değil github veri görselleştirme klasöründe paylaşacağım."
   ]
  },
  {
   "cell_type": "markdown",
   "id": "41d3cabe-e430-4fa7-be55-c411529c0d54",
   "metadata": {},
   "source": [
    "<span style='color:red'>MERKEZİ EĞİLİM ÖLÇÜLERİ</span>"
   ]
  },
  {
   "cell_type": "markdown",
   "id": "16b5a01b-7908-409e-8809-7a9f518e53b6",
   "metadata": {},
   "source": [
    "**ARİTMETİK ORTALAMA**<br>\n",
    "Bir seride yer alan tüm değerlerin toplanması ve birim sayısına bölünmesi ile elde edilen istatistiktir."
   ]
  },
  {
   "cell_type": "markdown",
   "id": "d7e5d761-de89-4c9b-b91f-3d45ed42c219",
   "metadata": {},
   "source": [
    "**MEDYAN**<br>\n",
    "Bir veri setini büyükten küçüğe veya küçükten büyüğe sıralandığımızda tam orta noktadan veri setini iki eşit parçaya ayıran değere **medyan** denir<br>\n",
    "* Basit seriler için, (n+1)/2\n",
    "* Veri setinin hacmi çift sayı ise n/2 ve (n/2)+1"
   ]
  },
  {
   "cell_type": "markdown",
   "id": "75605312-1a47-46d7-abd0-d8f89228c325",
   "metadata": {},
   "source": [
    "**MOD**<br>\n",
    "Bir seride/değişkende en çok en çok tekrar eden değere **Mod** adı verilir. "
   ]
  },
  {
   "cell_type": "markdown",
   "id": "c0542f26-a818-4b21-9a59-aabcd99cd5af",
   "metadata": {},
   "source": [
    "**KARTİLLER**<br>\n",
    "Küçükten büyüğe sıralanan bir seriyi 4 parçaya ayıran değerlere **Kartiller** denir.<br>\n",
    "**n=Veri Sayısı olmak üzere, 1.Çeyrek(Q1)** = (n+1)/4 , **3.Çeyrek(Q3)** = (n+1)*3/4 , **Q2(medyan)** = Q3-Q1  "
   ]
  },
  {
   "cell_type": "markdown",
   "id": "4e726dcf-fb84-470d-8c67-629327260059",
   "metadata": {},
   "source": [
    "<span style='color:red'>MERKEZİ DAĞILIM ÖLÇÜLERİ</span>"
   ]
  },
  {
   "cell_type": "markdown",
   "id": "6bafde82-68fa-4fa5-a026-94111089e635",
   "metadata": {},
   "source": [
    "**DEĞİŞİM ARALIĞI**<br><br>\n",
    "**Değişim Aralığı** = Serinin Maksimum değeri - S. Minimum değer"
   ]
  },
  {
   "cell_type": "markdown",
   "id": "80b44f0f-bb42-406b-b034-2377cd490698",
   "metadata": {},
   "source": [
    "<span style='color:red'>MERKEZİ DAĞILIM ÖLÇÜLERİ</span>"
   ]
  },
  {
   "cell_type": "markdown",
   "id": "0a04c2d1-789b-4f41-8f4b-06b47ad84e2c",
   "metadata": {},
   "source": [
    "**STANDART SAPMA**<br><br>\n",
    "Ortalamadan olan sapmaların genel ölçüsüdür."
   ]
  },
  {
   "cell_type": "markdown",
   "id": "31c5b7ed-cffe-4f27-9707-6636053d3af6",
   "metadata": {},
   "source": [
    "**VARYANS**<br><br>\n",
    "Ortalama etrafındaki dağılımın ölçüsüdür.**Standart sapmanın karesidir.**"
   ]
  },
  {
   "cell_type": "markdown",
   "id": "6188f842-ba0b-4150-a561-e4cf3c0f1a09",
   "metadata": {},
   "source": [
    "**ÇARPIKLIK**<br><br>\n",
    "Bir değişkenin dağılımının simetrik olamayışıdır.<br>\n",
    "* P.Ç.K < 0 ise ----> **Negatif Çarpık**\n",
    "* P.Ç.K = 0 ise ----> **Simetrik**\n",
    "* P.Ç.K > 0 ise ----> **Pozitif Çarpık**\n",
    "\n",
    "simetrik ---> (medyan=mod=ortalama)"
   ]
  },
  {
   "cell_type": "markdown",
   "id": "e2e079bb-97be-44ba-9030-e8db78da6d79",
   "metadata": {},
   "source": [
    "**BASIKLIK**<br><br>\n",
    "Dağılımın basıklığını/sivriliğini gösterir.<br>\n",
    "* B.K = 3 ise -----> **Dağılım Standart Normal Dağılıma Uygundur.**\n",
    "* B.K > 3 ise -----> **Dağılım Sivridir.**\n",
    "* B.K < 3 ise -----> **Dağılım Basıktır(yayvan).**"
   ]
  },
  {
   "cell_type": "markdown",
   "id": "7b68f740-f103-48cf-8f9a-eeff216b8576",
   "metadata": {},
   "source": [
    "**KOVARYANS :** İki değişken arasındaki **ilişkinin değişkenlik** ölçüsüdür.\n",
    "> **cov(X,Y) = E[(X-E[X])(Y-E[Y])]**"
   ]
  },
  {
   "cell_type": "markdown",
   "id": "846106fb-0ddc-41b7-a0e2-86aac3f18c57",
   "metadata": {},
   "source": [
    "**KORELASYON :** İki değişken arasındaki **ilişkiyi**, ilişkinin anlamlı olup olmadığını, ilişkinin şiddetini ve yönünü ifade eden istatistiksel bir tekniktir."
   ]
  },
  {
   "cell_type": "markdown",
   "id": "afa2b5db-7bde-4452-bff9-b5a43988aa75",
   "metadata": {},
   "source": [
    "[Kovaryans&Korelasyon](https://piyasarehberi.org/yatirim/portfoy-yonetimi/139-kovaryans-ve-korelasyon-nedir)"
   ]
  },
  {
   "cell_type": "code",
   "execution_count": 30,
   "id": "442006c5-ff62-4400-843d-694c362e62b9",
   "metadata": {},
   "outputs": [
    {
     "data": {
      "text/html": [
       "<div>\n",
       "<style scoped>\n",
       "    .dataframe tbody tr th:only-of-type {\n",
       "        vertical-align: middle;\n",
       "    }\n",
       "\n",
       "    .dataframe tbody tr th {\n",
       "        vertical-align: top;\n",
       "    }\n",
       "\n",
       "    .dataframe thead th {\n",
       "        text-align: right;\n",
       "    }\n",
       "</style>\n",
       "<table border=\"1\" class=\"dataframe\">\n",
       "  <thead>\n",
       "    <tr style=\"text-align: right;\">\n",
       "      <th></th>\n",
       "      <th>total_bill</th>\n",
       "      <th>tip</th>\n",
       "      <th>sex</th>\n",
       "      <th>smoker</th>\n",
       "      <th>day</th>\n",
       "      <th>time</th>\n",
       "      <th>size</th>\n",
       "    </tr>\n",
       "  </thead>\n",
       "  <tbody>\n",
       "    <tr>\n",
       "      <th>0</th>\n",
       "      <td>16.99</td>\n",
       "      <td>1.01</td>\n",
       "      <td>Female</td>\n",
       "      <td>No</td>\n",
       "      <td>Sun</td>\n",
       "      <td>Dinner</td>\n",
       "      <td>2</td>\n",
       "    </tr>\n",
       "    <tr>\n",
       "      <th>1</th>\n",
       "      <td>10.34</td>\n",
       "      <td>1.66</td>\n",
       "      <td>Male</td>\n",
       "      <td>No</td>\n",
       "      <td>Sun</td>\n",
       "      <td>Dinner</td>\n",
       "      <td>3</td>\n",
       "    </tr>\n",
       "    <tr>\n",
       "      <th>2</th>\n",
       "      <td>21.01</td>\n",
       "      <td>3.50</td>\n",
       "      <td>Male</td>\n",
       "      <td>No</td>\n",
       "      <td>Sun</td>\n",
       "      <td>Dinner</td>\n",
       "      <td>3</td>\n",
       "    </tr>\n",
       "    <tr>\n",
       "      <th>3</th>\n",
       "      <td>23.68</td>\n",
       "      <td>3.31</td>\n",
       "      <td>Male</td>\n",
       "      <td>No</td>\n",
       "      <td>Sun</td>\n",
       "      <td>Dinner</td>\n",
       "      <td>2</td>\n",
       "    </tr>\n",
       "    <tr>\n",
       "      <th>4</th>\n",
       "      <td>24.59</td>\n",
       "      <td>3.61</td>\n",
       "      <td>Female</td>\n",
       "      <td>No</td>\n",
       "      <td>Sun</td>\n",
       "      <td>Dinner</td>\n",
       "      <td>4</td>\n",
       "    </tr>\n",
       "  </tbody>\n",
       "</table>\n",
       "</div>"
      ],
      "text/plain": [
       "   total_bill   tip     sex smoker  day    time  size\n",
       "0       16.99  1.01  Female     No  Sun  Dinner     2\n",
       "1       10.34  1.66    Male     No  Sun  Dinner     3\n",
       "2       21.01  3.50    Male     No  Sun  Dinner     3\n",
       "3       23.68  3.31    Male     No  Sun  Dinner     2\n",
       "4       24.59  3.61  Female     No  Sun  Dinner     4"
      ]
     },
     "execution_count": 30,
     "metadata": {},
     "output_type": "execute_result"
    }
   ],
   "source": [
    "import seaborn as sns\n",
    "tips = sns.load_dataset(\"tips\")\n",
    "dataframe = tips.copy()\n",
    "dataframe.head()"
   ]
  },
  {
   "cell_type": "code",
   "execution_count": 31,
   "id": "3ab234ed-bd91-4cbe-9593-4d23a81998f0",
   "metadata": {},
   "outputs": [
    {
     "data": {
      "text/html": [
       "<div>\n",
       "<style scoped>\n",
       "    .dataframe tbody tr th:only-of-type {\n",
       "        vertical-align: middle;\n",
       "    }\n",
       "\n",
       "    .dataframe tbody tr th {\n",
       "        vertical-align: top;\n",
       "    }\n",
       "\n",
       "    .dataframe thead th {\n",
       "        text-align: right;\n",
       "    }\n",
       "</style>\n",
       "<table border=\"1\" class=\"dataframe\">\n",
       "  <thead>\n",
       "    <tr style=\"text-align: right;\">\n",
       "      <th></th>\n",
       "      <th>count</th>\n",
       "      <th>mean</th>\n",
       "      <th>std</th>\n",
       "      <th>min</th>\n",
       "      <th>25%</th>\n",
       "      <th>50%</th>\n",
       "      <th>75%</th>\n",
       "      <th>max</th>\n",
       "    </tr>\n",
       "  </thead>\n",
       "  <tbody>\n",
       "    <tr>\n",
       "      <th>total_bill</th>\n",
       "      <td>244.0</td>\n",
       "      <td>19.785943</td>\n",
       "      <td>8.902412</td>\n",
       "      <td>3.07</td>\n",
       "      <td>13.3475</td>\n",
       "      <td>17.795</td>\n",
       "      <td>24.1275</td>\n",
       "      <td>50.81</td>\n",
       "    </tr>\n",
       "    <tr>\n",
       "      <th>tip</th>\n",
       "      <td>244.0</td>\n",
       "      <td>2.998279</td>\n",
       "      <td>1.383638</td>\n",
       "      <td>1.00</td>\n",
       "      <td>2.0000</td>\n",
       "      <td>2.900</td>\n",
       "      <td>3.5625</td>\n",
       "      <td>10.00</td>\n",
       "    </tr>\n",
       "    <tr>\n",
       "      <th>size</th>\n",
       "      <td>244.0</td>\n",
       "      <td>2.569672</td>\n",
       "      <td>0.951100</td>\n",
       "      <td>1.00</td>\n",
       "      <td>2.0000</td>\n",
       "      <td>2.000</td>\n",
       "      <td>3.0000</td>\n",
       "      <td>6.00</td>\n",
       "    </tr>\n",
       "  </tbody>\n",
       "</table>\n",
       "</div>"
      ],
      "text/plain": [
       "            count       mean       std   min      25%     50%      75%    max\n",
       "total_bill  244.0  19.785943  8.902412  3.07  13.3475  17.795  24.1275  50.81\n",
       "tip         244.0   2.998279  1.383638  1.00   2.0000   2.900   3.5625  10.00\n",
       "size        244.0   2.569672  0.951100  1.00   2.0000   2.000   3.0000   6.00"
      ]
     },
     "execution_count": 31,
     "metadata": {},
     "output_type": "execute_result"
    }
   ],
   "source": [
    "dataframe.describe().T"
   ]
  },
  {
   "cell_type": "code",
   "execution_count": 34,
   "id": "f7ae068a-8433-460b-b1aa-05e7eca63b43",
   "metadata": {},
   "outputs": [
    {
     "data": {
      "text/plain": [
       "total_bill     float64\n",
       "tip            float64\n",
       "sex           category\n",
       "smoker        category\n",
       "day           category\n",
       "time          category\n",
       "size             int64\n",
       "dtype: object"
      ]
     },
     "execution_count": 34,
     "metadata": {},
     "output_type": "execute_result"
    }
   ],
   "source": [
    "dataframe.dtypes"
   ]
  },
  {
   "cell_type": "code",
   "execution_count": 36,
   "id": "a9dc8ec2-03ae-4630-afab-8064cb395247",
   "metadata": {
    "tags": []
   },
   "outputs": [
    {
     "name": "stdout",
     "output_type": "stream",
     "text": [
      "Requirement already satisfied: researchpy in c:\\users\\suruc\\anaconda3\\lib\\site-packages (0.3.5)\n",
      "Requirement already satisfied: numpy in c:\\users\\suruc\\anaconda3\\lib\\site-packages (from researchpy) (1.21.5)\n",
      "Requirement already satisfied: statsmodels in c:\\users\\suruc\\anaconda3\\lib\\site-packages (from researchpy) (0.13.2)\n",
      "Requirement already satisfied: scipy in c:\\users\\suruc\\anaconda3\\lib\\site-packages (from researchpy) (1.7.3)\n",
      "Requirement already satisfied: pandas in c:\\users\\suruc\\anaconda3\\lib\\site-packages (from researchpy) (1.4.2)\n",
      "Requirement already satisfied: patsy in c:\\users\\suruc\\anaconda3\\lib\\site-packages (from researchpy) (0.5.2)\n",
      "Requirement already satisfied: pytz>=2020.1 in c:\\users\\suruc\\anaconda3\\lib\\site-packages (from pandas->researchpy) (2021.3)\n",
      "Requirement already satisfied: python-dateutil>=2.8.1 in c:\\users\\suruc\\anaconda3\\lib\\site-packages (from pandas->researchpy) (2.8.2)\n",
      "Requirement already satisfied: six>=1.5 in c:\\users\\suruc\\anaconda3\\lib\\site-packages (from python-dateutil>=2.8.1->pandas->researchpy) (1.16.0)\n",
      "Requirement already satisfied: packaging>=21.3 in c:\\users\\suruc\\anaconda3\\lib\\site-packages (from statsmodels->researchpy) (21.3)\n",
      "Requirement already satisfied: pyparsing!=3.0.5,>=2.0.2 in c:\\users\\suruc\\anaconda3\\lib\\site-packages (from packaging>=21.3->statsmodels->researchpy) (3.0.4)\n"
     ]
    }
   ],
   "source": [
    "!pip install researchpy\n",
    "import researchpy as rp"
   ]
  },
  {
   "cell_type": "code",
   "execution_count": 50,
   "id": "b5a75153-b6de-4483-a472-c190c9e1650e",
   "metadata": {},
   "outputs": [
    {
     "name": "stdout",
     "output_type": "stream",
     "text": [
      "\n",
      "\n"
     ]
    },
    {
     "data": {
      "text/html": [
       "<div>\n",
       "<style scoped>\n",
       "    .dataframe tbody tr th:only-of-type {\n",
       "        vertical-align: middle;\n",
       "    }\n",
       "\n",
       "    .dataframe tbody tr th {\n",
       "        vertical-align: top;\n",
       "    }\n",
       "\n",
       "    .dataframe thead th {\n",
       "        text-align: right;\n",
       "    }\n",
       "</style>\n",
       "<table border=\"1\" class=\"dataframe\">\n",
       "  <thead>\n",
       "    <tr style=\"text-align: right;\">\n",
       "      <th></th>\n",
       "      <th>Variable</th>\n",
       "      <th>N</th>\n",
       "      <th>Mean</th>\n",
       "      <th>SD</th>\n",
       "      <th>SE</th>\n",
       "      <th>95% Conf.</th>\n",
       "      <th>Interval</th>\n",
       "    </tr>\n",
       "  </thead>\n",
       "  <tbody>\n",
       "    <tr>\n",
       "      <th>0</th>\n",
       "      <td>total_bill</td>\n",
       "      <td>244.0</td>\n",
       "      <td>19.7859</td>\n",
       "      <td>8.9024</td>\n",
       "      <td>0.5699</td>\n",
       "      <td>18.6633</td>\n",
       "      <td>20.9086</td>\n",
       "    </tr>\n",
       "    <tr>\n",
       "      <th>1</th>\n",
       "      <td>tip</td>\n",
       "      <td>244.0</td>\n",
       "      <td>2.9983</td>\n",
       "      <td>1.3836</td>\n",
       "      <td>0.0886</td>\n",
       "      <td>2.8238</td>\n",
       "      <td>3.1728</td>\n",
       "    </tr>\n",
       "    <tr>\n",
       "      <th>2</th>\n",
       "      <td>size</td>\n",
       "      <td>244.0</td>\n",
       "      <td>2.5697</td>\n",
       "      <td>0.9511</td>\n",
       "      <td>0.0609</td>\n",
       "      <td>2.4497</td>\n",
       "      <td>2.6896</td>\n",
       "    </tr>\n",
       "  </tbody>\n",
       "</table>\n",
       "</div>"
      ],
      "text/plain": [
       "     Variable      N     Mean      SD      SE  95% Conf.  Interval\n",
       "0  total_bill  244.0  19.7859  8.9024  0.5699    18.6633   20.9086\n",
       "1         tip  244.0   2.9983  1.3836  0.0886     2.8238    3.1728\n",
       "2        size  244.0   2.5697  0.9511  0.0609     2.4497    2.6896"
      ]
     },
     "execution_count": 50,
     "metadata": {},
     "output_type": "execute_result"
    }
   ],
   "source": [
    "# sayısal değişkenler için\n",
    "rp.summary_cont(dataframe[[\"total_bill\",\"tip\",\"size\"]])\n",
    "\n",
    "# N: Gözlem Sayıları , SD: Standart Sapması , SE: Standart Hatası , Interval: Güven Aralıkları"
   ]
  },
  {
   "cell_type": "code",
   "execution_count": 51,
   "id": "5af6ae99-bd3f-472b-b7a4-462f51f49f80",
   "metadata": {},
   "outputs": [
    {
     "name": "stdout",
     "output_type": "stream",
     "text": [
      "\n",
      "\n"
     ]
    },
    {
     "data": {
      "text/html": [
       "<div>\n",
       "<style scoped>\n",
       "    .dataframe tbody tr th:only-of-type {\n",
       "        vertical-align: middle;\n",
       "    }\n",
       "\n",
       "    .dataframe tbody tr th {\n",
       "        vertical-align: top;\n",
       "    }\n",
       "\n",
       "    .dataframe thead th {\n",
       "        text-align: right;\n",
       "    }\n",
       "</style>\n",
       "<table border=\"1\" class=\"dataframe\">\n",
       "  <thead>\n",
       "    <tr style=\"text-align: right;\">\n",
       "      <th></th>\n",
       "      <th>Variable</th>\n",
       "      <th>N</th>\n",
       "      <th>Mean</th>\n",
       "      <th>SD</th>\n",
       "      <th>SE</th>\n",
       "      <th>95% Conf.</th>\n",
       "      <th>Interval</th>\n",
       "    </tr>\n",
       "  </thead>\n",
       "  <tbody>\n",
       "    <tr>\n",
       "      <th>0</th>\n",
       "      <td>total_bill</td>\n",
       "      <td>244.0</td>\n",
       "      <td>19.7859</td>\n",
       "      <td>8.9024</td>\n",
       "      <td>0.5699</td>\n",
       "      <td>18.6633</td>\n",
       "      <td>20.9086</td>\n",
       "    </tr>\n",
       "    <tr>\n",
       "      <th>1</th>\n",
       "      <td>tip</td>\n",
       "      <td>244.0</td>\n",
       "      <td>2.9983</td>\n",
       "      <td>1.3836</td>\n",
       "      <td>0.0886</td>\n",
       "      <td>2.8238</td>\n",
       "      <td>3.1728</td>\n",
       "    </tr>\n",
       "    <tr>\n",
       "      <th>2</th>\n",
       "      <td>size</td>\n",
       "      <td>244.0</td>\n",
       "      <td>2.5697</td>\n",
       "      <td>0.9511</td>\n",
       "      <td>0.0609</td>\n",
       "      <td>2.4497</td>\n",
       "      <td>2.6896</td>\n",
       "    </tr>\n",
       "  </tbody>\n",
       "</table>\n",
       "</div>"
      ],
      "text/plain": [
       "     Variable      N     Mean      SD      SE  95% Conf.  Interval\n",
       "0  total_bill  244.0  19.7859  8.9024  0.5699    18.6633   20.9086\n",
       "1         tip  244.0   2.9983  1.3836  0.0886     2.8238    3.1728\n",
       "2        size  244.0   2.5697  0.9511  0.0609     2.4497    2.6896"
      ]
     },
     "execution_count": 51,
     "metadata": {},
     "output_type": "execute_result"
    }
   ],
   "source": [
    "# PRATİK YOL !!!\n",
    "rp.summary_cont(dataframe.select_dtypes(include = [\"float64\", \"int64\"]))"
   ]
  },
  {
   "cell_type": "code",
   "execution_count": 45,
   "id": "622cae69-f9be-46cf-ae18-5a6843d8b31a",
   "metadata": {},
   "outputs": [
    {
     "data": {
      "text/html": [
       "<div>\n",
       "<style scoped>\n",
       "    .dataframe tbody tr th:only-of-type {\n",
       "        vertical-align: middle;\n",
       "    }\n",
       "\n",
       "    .dataframe tbody tr th {\n",
       "        vertical-align: top;\n",
       "    }\n",
       "\n",
       "    .dataframe thead th {\n",
       "        text-align: right;\n",
       "    }\n",
       "</style>\n",
       "<table border=\"1\" class=\"dataframe\">\n",
       "  <thead>\n",
       "    <tr style=\"text-align: right;\">\n",
       "      <th></th>\n",
       "      <th>Variable</th>\n",
       "      <th>Outcome</th>\n",
       "      <th>Count</th>\n",
       "      <th>Percent</th>\n",
       "    </tr>\n",
       "  </thead>\n",
       "  <tbody>\n",
       "    <tr>\n",
       "      <th>0</th>\n",
       "      <td>sex</td>\n",
       "      <td>Male</td>\n",
       "      <td>157</td>\n",
       "      <td>64.34</td>\n",
       "    </tr>\n",
       "    <tr>\n",
       "      <th>1</th>\n",
       "      <td></td>\n",
       "      <td>Female</td>\n",
       "      <td>87</td>\n",
       "      <td>35.66</td>\n",
       "    </tr>\n",
       "    <tr>\n",
       "      <th>2</th>\n",
       "      <td>smoker</td>\n",
       "      <td>No</td>\n",
       "      <td>151</td>\n",
       "      <td>61.89</td>\n",
       "    </tr>\n",
       "    <tr>\n",
       "      <th>3</th>\n",
       "      <td></td>\n",
       "      <td>Yes</td>\n",
       "      <td>93</td>\n",
       "      <td>38.11</td>\n",
       "    </tr>\n",
       "    <tr>\n",
       "      <th>4</th>\n",
       "      <td>day</td>\n",
       "      <td>Sat</td>\n",
       "      <td>87</td>\n",
       "      <td>35.66</td>\n",
       "    </tr>\n",
       "    <tr>\n",
       "      <th>5</th>\n",
       "      <td></td>\n",
       "      <td>Sun</td>\n",
       "      <td>76</td>\n",
       "      <td>31.15</td>\n",
       "    </tr>\n",
       "    <tr>\n",
       "      <th>6</th>\n",
       "      <td></td>\n",
       "      <td>Thur</td>\n",
       "      <td>62</td>\n",
       "      <td>25.41</td>\n",
       "    </tr>\n",
       "    <tr>\n",
       "      <th>7</th>\n",
       "      <td></td>\n",
       "      <td>Fri</td>\n",
       "      <td>19</td>\n",
       "      <td>7.79</td>\n",
       "    </tr>\n",
       "  </tbody>\n",
       "</table>\n",
       "</div>"
      ],
      "text/plain": [
       "  Variable Outcome  Count  Percent\n",
       "0      sex    Male    157    64.34\n",
       "1           Female     87    35.66\n",
       "2   smoker      No    151    61.89\n",
       "3              Yes     93    38.11\n",
       "4      day     Sat     87    35.66\n",
       "5              Sun     76    31.15\n",
       "6             Thur     62    25.41\n",
       "7              Fri     19     7.79"
      ]
     },
     "execution_count": 45,
     "metadata": {},
     "output_type": "execute_result"
    }
   ],
   "source": [
    "#kategorik değişkenler için\n",
    "rp.summary_cat(dataframe[[\"sex\",\"smoker\",\"day\"]])\n",
    "\n",
    "# percent : yüzdelik"
   ]
  },
  {
   "cell_type": "code",
   "execution_count": 53,
   "id": "7a51170d-b70c-4de8-90df-9567428de901",
   "metadata": {},
   "outputs": [
    {
     "data": {
      "text/html": [
       "<div>\n",
       "<style scoped>\n",
       "    .dataframe tbody tr th:only-of-type {\n",
       "        vertical-align: middle;\n",
       "    }\n",
       "\n",
       "    .dataframe tbody tr th {\n",
       "        vertical-align: top;\n",
       "    }\n",
       "\n",
       "    .dataframe thead th {\n",
       "        text-align: right;\n",
       "    }\n",
       "</style>\n",
       "<table border=\"1\" class=\"dataframe\">\n",
       "  <thead>\n",
       "    <tr style=\"text-align: right;\">\n",
       "      <th></th>\n",
       "      <th>Variable</th>\n",
       "      <th>Outcome</th>\n",
       "      <th>Count</th>\n",
       "      <th>Percent</th>\n",
       "    </tr>\n",
       "  </thead>\n",
       "  <tbody>\n",
       "    <tr>\n",
       "      <th>0</th>\n",
       "      <td>sex</td>\n",
       "      <td>Male</td>\n",
       "      <td>157</td>\n",
       "      <td>64.34</td>\n",
       "    </tr>\n",
       "    <tr>\n",
       "      <th>1</th>\n",
       "      <td></td>\n",
       "      <td>Female</td>\n",
       "      <td>87</td>\n",
       "      <td>35.66</td>\n",
       "    </tr>\n",
       "    <tr>\n",
       "      <th>2</th>\n",
       "      <td>smoker</td>\n",
       "      <td>No</td>\n",
       "      <td>151</td>\n",
       "      <td>61.89</td>\n",
       "    </tr>\n",
       "    <tr>\n",
       "      <th>3</th>\n",
       "      <td></td>\n",
       "      <td>Yes</td>\n",
       "      <td>93</td>\n",
       "      <td>38.11</td>\n",
       "    </tr>\n",
       "    <tr>\n",
       "      <th>4</th>\n",
       "      <td>day</td>\n",
       "      <td>Sat</td>\n",
       "      <td>87</td>\n",
       "      <td>35.66</td>\n",
       "    </tr>\n",
       "    <tr>\n",
       "      <th>5</th>\n",
       "      <td></td>\n",
       "      <td>Sun</td>\n",
       "      <td>76</td>\n",
       "      <td>31.15</td>\n",
       "    </tr>\n",
       "    <tr>\n",
       "      <th>6</th>\n",
       "      <td></td>\n",
       "      <td>Thur</td>\n",
       "      <td>62</td>\n",
       "      <td>25.41</td>\n",
       "    </tr>\n",
       "    <tr>\n",
       "      <th>7</th>\n",
       "      <td></td>\n",
       "      <td>Fri</td>\n",
       "      <td>19</td>\n",
       "      <td>7.79</td>\n",
       "    </tr>\n",
       "    <tr>\n",
       "      <th>8</th>\n",
       "      <td>time</td>\n",
       "      <td>Dinner</td>\n",
       "      <td>176</td>\n",
       "      <td>72.13</td>\n",
       "    </tr>\n",
       "    <tr>\n",
       "      <th>9</th>\n",
       "      <td></td>\n",
       "      <td>Lunch</td>\n",
       "      <td>68</td>\n",
       "      <td>27.87</td>\n",
       "    </tr>\n",
       "  </tbody>\n",
       "</table>\n",
       "</div>"
      ],
      "text/plain": [
       "  Variable Outcome  Count  Percent\n",
       "0      sex    Male    157    64.34\n",
       "1           Female     87    35.66\n",
       "2   smoker      No    151    61.89\n",
       "3              Yes     93    38.11\n",
       "4      day     Sat     87    35.66\n",
       "5              Sun     76    31.15\n",
       "6             Thur     62    25.41\n",
       "7              Fri     19     7.79\n",
       "8     time  Dinner    176    72.13\n",
       "9            Lunch     68    27.87"
      ]
     },
     "execution_count": 53,
     "metadata": {},
     "output_type": "execute_result"
    }
   ],
   "source": [
    "# PRATİK YOL !!!\n",
    "rp.summary_cat(df.select_dtypes(include = [\"category\"]))"
   ]
  },
  {
   "cell_type": "markdown",
   "id": "459ca053-d101-4261-9865-41f30c7fd456",
   "metadata": {},
   "source": [
    "**Kovaryans nasıl yorumlanır?**<br>\n",
    "Değerler şu şekilde yorumlanır:<br> **Pozitif kovaryans :** İki değişkenin aynı yönde hareket etme eğiliminde olduğunu gösterir.<br> **Negatif kovaryans :** İki değişkenin ters yönde hareket etme eğiliminde olduğunu ortaya çıkarır."
   ]
  },
  {
   "cell_type": "code",
   "execution_count": 46,
   "id": "0b4ff793-c3c5-4cc0-99e2-fe99a5bd0ca8",
   "metadata": {},
   "outputs": [
    {
     "data": {
      "text/html": [
       "<div>\n",
       "<style scoped>\n",
       "    .dataframe tbody tr th:only-of-type {\n",
       "        vertical-align: middle;\n",
       "    }\n",
       "\n",
       "    .dataframe tbody tr th {\n",
       "        vertical-align: top;\n",
       "    }\n",
       "\n",
       "    .dataframe thead th {\n",
       "        text-align: right;\n",
       "    }\n",
       "</style>\n",
       "<table border=\"1\" class=\"dataframe\">\n",
       "  <thead>\n",
       "    <tr style=\"text-align: right;\">\n",
       "      <th></th>\n",
       "      <th>tip</th>\n",
       "      <th>total_bill</th>\n",
       "    </tr>\n",
       "  </thead>\n",
       "  <tbody>\n",
       "    <tr>\n",
       "      <th>tip</th>\n",
       "      <td>1.914455</td>\n",
       "      <td>8.323502</td>\n",
       "    </tr>\n",
       "    <tr>\n",
       "      <th>total_bill</th>\n",
       "      <td>8.323502</td>\n",
       "      <td>79.252939</td>\n",
       "    </tr>\n",
       "  </tbody>\n",
       "</table>\n",
       "</div>"
      ],
      "text/plain": [
       "                 tip  total_bill\n",
       "tip         1.914455    8.323502\n",
       "total_bill  8.323502   79.252939"
      ]
     },
     "execution_count": 46,
     "metadata": {},
     "output_type": "execute_result"
    }
   ],
   "source": [
    "dataframe[[\"tip\",\"total_bill\"]].cov()"
   ]
  },
  {
   "cell_type": "markdown",
   "id": "5e2c6aeb-fd48-407a-b761-31538dbe4695",
   "metadata": {},
   "source": [
    "**Korelasyon, bir değişkendeki bir değişikliğin diğerini nasıl etkileyeceğini tanımlar, kovaryans ise iki maddenin birlikte nasıl değiştiğini tanımlar.**"
   ]
  },
  {
   "cell_type": "code",
   "execution_count": 47,
   "id": "2404e384-99ff-4f49-8548-0cf61f924c10",
   "metadata": {},
   "outputs": [
    {
     "data": {
      "text/html": [
       "<div>\n",
       "<style scoped>\n",
       "    .dataframe tbody tr th:only-of-type {\n",
       "        vertical-align: middle;\n",
       "    }\n",
       "\n",
       "    .dataframe tbody tr th {\n",
       "        vertical-align: top;\n",
       "    }\n",
       "\n",
       "    .dataframe thead th {\n",
       "        text-align: right;\n",
       "    }\n",
       "</style>\n",
       "<table border=\"1\" class=\"dataframe\">\n",
       "  <thead>\n",
       "    <tr style=\"text-align: right;\">\n",
       "      <th></th>\n",
       "      <th>tip</th>\n",
       "      <th>total_bill</th>\n",
       "    </tr>\n",
       "  </thead>\n",
       "  <tbody>\n",
       "    <tr>\n",
       "      <th>tip</th>\n",
       "      <td>1.000000</td>\n",
       "      <td>0.675734</td>\n",
       "    </tr>\n",
       "    <tr>\n",
       "      <th>total_bill</th>\n",
       "      <td>0.675734</td>\n",
       "      <td>1.000000</td>\n",
       "    </tr>\n",
       "  </tbody>\n",
       "</table>\n",
       "</div>"
      ],
      "text/plain": [
       "                 tip  total_bill\n",
       "tip         1.000000    0.675734\n",
       "total_bill  0.675734    1.000000"
      ]
     },
     "execution_count": 47,
     "metadata": {},
     "output_type": "execute_result"
    }
   ],
   "source": [
    "dataframe[[\"tip\",\"total_bill\"]].corr()"
   ]
  }
 ],
 "metadata": {
  "kernelspec": {
   "display_name": "Python 3 (ipykernel)",
   "language": "python",
   "name": "python3"
  },
  "language_info": {
   "codemirror_mode": {
    "name": "ipython",
    "version": 3
   },
   "file_extension": ".py",
   "mimetype": "text/x-python",
   "name": "python",
   "nbconvert_exporter": "python",
   "pygments_lexer": "ipython3",
   "version": "3.9.13"
  }
 },
 "nbformat": 4,
 "nbformat_minor": 5
}
