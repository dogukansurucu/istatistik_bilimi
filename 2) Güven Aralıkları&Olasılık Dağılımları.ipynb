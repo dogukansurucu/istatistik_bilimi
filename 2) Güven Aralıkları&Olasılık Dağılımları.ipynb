{
 "cells": [
  {
   "cell_type": "markdown",
   "id": "f7865014-6f92-4497-a9d7-dc63ff97369e",
   "metadata": {},
   "source": [
    "## **OLASILIK DAĞILIMLARI**"
   ]
  },
  {
   "cell_type": "markdown",
   "id": "3bf0d412-a83b-4a66-8e0a-6f7bc06fc91f",
   "metadata": {},
   "source": [
    "> **Olayların olabilirliğinin sayısal ifadesidir.**"
   ]
  },
  {
   "cell_type": "markdown",
   "id": "90da55b0-589b-47ef-88b5-eb799fb52aae",
   "metadata": {},
   "source": [
    "**Rassal Değişken Ve Olasılık Dağılımları**"
   ]
  },
  {
   "cell_type": "markdown",
   "id": "56fb4525-40d2-47a6-a160-f26194c6e4f0",
   "metadata": {},
   "source": [
    "* **Rassal Değişken:** Değerlerini bir deneyin sonuçlarından alan değişkene **rassal değişken** denir.\n",
    "* **Dağılım:** Evrende gerçekleşen olayların veya durumların sayısal karşılıklarının ortaya çıkardığı yapıdır.\n",
    "* **Olasılık Dağılımı:**  Bir rassal olaya ait değerler ve bu dğerlerin gerçekleşem oalsılıklarının birarada ifade edilmesine olasılık dağılım denirç.\n",
    "* **Olasılık Fonksiyonu:** Bir değişkenin herhangi bir değeri alması olasılığını hesaplamaya yarayan fonksiyondur."
   ]
  },
  {
   "cell_type": "markdown",
   "id": "3e272110-132f-404e-b8d6-b8a12c8fdfd5",
   "metadata": {},
   "source": [
    "**Kesikli Ve Sürekli Olasılık Dağılımları**"
   ]
  },
  {
   "cell_type": "markdown",
   "id": "f8983c19-1cae-4e53-a423-b4e18ea89ab8",
   "metadata": {},
   "source": [
    "KESİKLİ OLASILIK DAĞILIMLARI\n",
    "* Bernoulli\n",
    "* Binom\n",
    "* Poisson\n",
    "\n",
    "SÜREKLİ OLASILIK DAĞILIMLARI\n",
    "* Normal Dağılım\n",
    "* Üniform Dağılım\n",
    "* Üstel Dağılım"
   ]
  },
  {
   "cell_type": "markdown",
   "id": "9153c6c0-1659-4b49-9655-f3a29f6d6622",
   "metadata": {},
   "source": [
    "**BERNOULLİ DAĞILIMI:** **Başarılı-Başarısız, Olumlu-Olumsuz** şeklindeki **iki sonuçlu olaylar** ile ilgilenildiğinde kullanılan kesikli olasılık dağılımıdır.\n",
    "\n",
    "**E(x): Beklenen değer , Var(x): Varyans , f(x;p): Olasılık Fonksiyonu**\n",
    "\n",
    "**k:**, 0 ise 1-k = 1 dir. k=1 ise 1-k=0 dır , **p:** başarılı olayın gerçekleşme olasılığı , **1-p:** başarılı olmama olasılığı\n",
    "\n",
    "${\\displaystyle f(k;p)=p^{k}(1-p)^{1-k}\\quad {\\text{for }}k\\in \\{0,1\\}}$\n",
    "\n",
    "\n",
    "${\\displaystyle \\operatorname {E} \\left(X\\right)=p}$\n",
    "\n",
    "$\\operatorname {Var} [X]=pq=p(1-p)$"
   ]
  },
  {
   "cell_type": "code",
   "execution_count": 9,
   "id": "99f09409-7afb-4857-92eb-c2feaeac2837",
   "metadata": {},
   "outputs": [
    {
     "data": {
      "text/plain": [
       "0.6"
      ]
     },
     "execution_count": 9,
     "metadata": {},
     "output_type": "execute_result"
    }
   ],
   "source": [
    "# PROBLEM\n",
    "\"\"\"\n",
    "Havaya atılan paranın tura olma olasılığı\n",
    "\"\"\"\n",
    "\n",
    "from scipy.stats import bernoulli\n",
    "p = 0.6   # tura olma olasılığı %60 olsun..\n",
    "olasılık = bernoulli(p)\n",
    "olasılık.pmf(k = 1)   # tura olma olasılığı\n",
    "\n",
    "# pmf(probability mass function): olasılık kütle fonksiyonu"
   ]
  },
  {
   "cell_type": "code",
   "execution_count": 11,
   "id": "6b5d91fd-3cb3-4e64-9862-5c9dcd499a3e",
   "metadata": {},
   "outputs": [
    {
     "data": {
      "text/plain": [
       "0.4"
      ]
     },
     "execution_count": 11,
     "metadata": {},
     "output_type": "execute_result"
    }
   ],
   "source": [
    "olasılık.pmf(k = 0)  # yazı olma olasılığı"
   ]
  },
  {
   "cell_type": "markdown",
   "id": "1ede0f6e-7f02-4305-adaf-204f61c1dbc3",
   "metadata": {},
   "source": [
    "> **Büyük Sayılar Yasası** : Bir rassal değişkenin uzun vadeli kararlığını tanımlayan olasılık teoremidir."
   ]
  },
  {
   "cell_type": "code",
   "execution_count": 3,
   "id": "8f6df697-f0a7-4853-b189-c13e42779f5b",
   "metadata": {},
   "outputs": [
    {
     "name": "stdout",
     "output_type": "stream",
     "text": [
      "Atış Sayısı: 2 --- Yazı Olasılığı: 100.00\n",
      "Atış Sayısı: 4 --- Yazı Olasılığı: 50.00\n",
      "Atış Sayısı: 8 --- Yazı Olasılığı: 50.00\n",
      "Atış Sayısı: 16 --- Yazı Olasılığı: 43.75\n",
      "Atış Sayısı: 32 --- Yazı Olasılığı: 46.88\n",
      "Atış Sayısı: 64 --- Yazı Olasılığı: 54.69\n",
      "Atış Sayısı: 128 --- Yazı Olasılığı: 43.75\n",
      "Atış Sayısı: 256 --- Yazı Olasılığı: 51.95\n",
      "Atış Sayısı: 512 --- Yazı Olasılığı: 52.15\n",
      "Atış Sayısı: 1024 --- Yazı Olasılığı: 48.34\n",
      "Atış Sayısı: 2048 --- Yazı Olasılığı: 50.10\n",
      "Atış Sayısı: 4096 --- Yazı Olasılığı: 49.66\n",
      "Atış Sayısı: 8192 --- Yazı Olasılığı: 49.85\n",
      "Atış Sayısı: 16384 --- Yazı Olasılığı: 49.96\n",
      "Atış Sayısı: 32768 --- Yazı Olasılığı: 50.40\n",
      "Atış Sayısı: 65536 --- Yazı Olasılığı: 50.13\n",
      "Atış Sayısı: 131072 --- Yazı Olasılığı: 49.88\n",
      "Atış Sayısı: 262144 --- Yazı Olasılığı: 49.98\n",
      "Atış Sayısı: 524288 --- Yazı Olasılığı: 49.82\n",
      "Atış Sayısı: 1048576 --- Yazı Olasılığı: 49.97\n"
     ]
    }
   ],
   "source": [
    "import numpy as np\n",
    "rng = np.random.RandomState(12) # GENEL OLARAK 12,123,1234 DEĞERLERİNİ ALIR.\n",
    "for i in np.arange(1,21):\n",
    "    deney_sayisi = 2**i\n",
    "    yazi_turalar = rng.randint(0, 2, size = deney_sayisi)\n",
    "    yazi_olasiliklari = np.mean(yazi_turalar)\n",
    "    print(\"Atış Sayısı:\",deney_sayisi,\"---\",'Yazı Olasılığı: %.2f' % (yazi_olasiliklari * 100))\n",
    "    \n",
    "\n",
    "    \n",
    "# Output'a göre yazı tura olasılığının birbirine yaklaştığını görürüz. Bunun sebebi Büyük sayılar yasasının tanımından gelmektedir.\n",
    "# Yani deney sayısı arttıkça ilgili olaya ilişkin olasılık değerleri açık bir şekilde gözükür.\n",
    "# RandomState'e bağlı olarak değer aralığı veriyoruz(örnekte 0-2 arası)."
   ]
  },
  {
   "cell_type": "markdown",
   "id": "14ede1ca-65af-4d9f-9f32-d92429e9705f",
   "metadata": {
    "tags": []
   },
   "source": [
    "**BİNOM DAĞILIMI:** Binom dağılımı, bağımsız **n deneme sonucu başarılı olma olasılığı** ile ilgilenildiğinde kullanılan dağılımdır.\n",
    "\n",
    "${\\displaystyle f(k;n,p)={n \\choose k}p^{k}(1-p)^{n-k}}$, k = 0, 1, 2, ...,n\n",
    "\n",
    "**n:** deneme sayısı, **k:** k sayıda başarı elde etmek, **p:** başarılı olayın gerçekleşme olasılığı\n",
    "\n",
    "${\\displaystyle \\operatorname {E} (X)=np}$\n",
    "\n",
    "\n",
    "${\\displaystyle \\operatorname {Var} (X)=np(1-p)}$\n",
    "\n",
    "\n",
    "\n",
    "Bir madeni para 4 kere atılıyor. 2 kere yazı gelme olasılığı nedir ?\n",
    "${\\displaystyle f(2;4,1/2)={4 \\choose 2}(1/2)^{2}(1-1/2)^{4-2}}$ = 0.375\n"
   ]
  },
  {
   "cell_type": "code",
   "execution_count": 11,
   "id": "9f1dad86-0684-4041-a937-7c0ee8e969ef",
   "metadata": {},
   "outputs": [
    {
     "name": "stdout",
     "output_type": "stream",
     "text": [
      "0.36972963764972666\n",
      "0.002897787123761478\n",
      "1.0781835128093526e-13\n"
     ]
    }
   ],
   "source": [
    "# PROBLEM:\n",
    "\"\"\"Çeşitlli mecralara reklam veriliyor, reklamların tıklanma ve geri dönüşüm oranları optimize edilmeye çalışılıyor.Buna yönelik\n",
    "olarak belirli bir mecrada çeşitli senaryolara göre reklama tıklama olasılıkları hesaplanmak isteniliyor.\n",
    "\n",
    "DETAYLAR:\n",
    "\n",
    "--> Bir mecrada reklam verilecek\n",
    "--> Dağılım ve reklama tıklama olasılığı biliniyor(0.01)\n",
    "--> SORU: Reklamı 100 kişi görüdğünde 1,5,10 tıklanması olasılığı nedir ?\n",
    "\n",
    "\"\"\"\n",
    "\n",
    "from scipy.stats import binom\n",
    "p = 0.01\n",
    "n = 100\n",
    "funcname = binom(n,p)\n",
    "print(funcname.pmf(1))   # REKLAMI 1 KİŞİNİN GÖRMESİ\n",
    "print(funcname.pmf(5))   # REKLAMI 5 KİŞİNİN GÖRMESİ\n",
    "print(funcname.pmf(10))  # REKLAMI 10 KİŞİNİN GÖRMESİ"
   ]
  },
  {
   "cell_type": "markdown",
   "id": "7c6830b8-6771-4f03-a635-b5528b038551",
   "metadata": {},
   "source": [
    "**POİSSON DAĞILIMI:** Belirli bir **zaman aralığında** belirli bir alanda **nadiren rastlanan olayların olasılıklarını** hesaplamak için kullanılır.\n",
    "\n",
    "${\\displaystyle f(x,\\lambda )={\\frac {\\lambda ^{x}e^{-\\lambda }}{x!}}\\,\\!}$,  x = 0,1,2,...,n\n",
    "\n",
    "**x:** ilgilenmiş olduğumuz olayın ortaya çıkma sayısı,\n",
    "**e:** sabit,\n",
    "**λ:** lambda değeri\n",
    "\n",
    "${\\displaystyle \\operatorname {E} (X)=λ}$\n",
    "\n",
    "\n",
    "${\\displaystyle \\operatorname {Var} (X)=λ}$\n",
    "* Poisson dağılımında **ortalama ve varyans birbirine eşittir.**\n",
    "\n",
    "POİSSON DAĞILIMINA ÖRNEKLER:\n",
    "* 4000 öğrencili okulda not girişinde hata yapılması\n",
    "* Kredi kartı işlemlerinde sahtekarlık olması\n",
    "* 10 bin kelimeden oluşan bir kitapta hatalı kelime sayısı\n",
    "\n",
    "**Nadir olay nedir ?** Nadir olay şartı;\n",
    "\n",
    "Rassal deneme sayısı **n' nin 50' den büyük** ve **n*p < 5** olması gerekir.\n",
    "\n",
    "--**PROBLEM**--\n",
    "Bir üniversitede 5000 not girişinde 5 tane notun yanlış girilmesi olasılığı nedir ? Dağılımın Poisson olduğu biliniyor ve lamda(λ) =0.2\n",
    "\n",
    "${\\displaystyle f(5,0.2)={\\frac {0.2^{5}e^{-0.2}}{5!}}\\,\\!}$ = 0.0000021"
   ]
  },
  {
   "cell_type": "markdown",
   "id": "626c458f-6d61-44f3-b84a-ae89fedcfd8f",
   "metadata": {},
   "source": [
    "--**PROBLEM**--\n",
    "\n",
    "Hatalı ilan girişi olasılıkları hesaplanmak isteniyor.\n",
    "\n",
    "DETAYLAR:\n",
    "* Bir yıl süresince ölçümler yapılıyor.\n",
    "* Dağılım biliniyor (Poisson) ve Lambda 0.1 (ortalama hata sayısı)\n",
    "* Hiç hata olmaması, 3 hata olması ve 5 hata olması olasılıkları nedir ?\n",
    "\n",
    "${\\displaystyle f(0,0.1)={\\frac {0.1^{0}e^{-0.1}}{0!}}\\,\\!}$ = 0.9048374180\n",
    " \n",
    "${\\displaystyle f(3,0.1)={\\frac {0.1^{3}e^{-0.1}}{3!}}\\,\\!}$ = 0.0001505062\n",
    "\n",
    "${\\displaystyle f(5,0.1)={\\frac {0.1^{5}e^{-0.1}}{5!}}\\,\\!}$ = 0.0000000754"
   ]
  },
  {
   "cell_type": "code",
   "execution_count": 19,
   "id": "ab89aab4-1867-4248-b532-3b55ac4e298b",
   "metadata": {},
   "outputs": [
    {
     "name": "stdout",
     "output_type": "stream",
     "text": [
      "0.9048374180359595\n",
      "0.00015080623633932676\n",
      "7.54031181696634e-08\n"
     ]
    }
   ],
   "source": [
    "from scipy.stats import poisson\n",
    "lambda_degeri = 0.1\n",
    "a = poisson(mu = lambda_degeri)\n",
    "print(a.pmf(k=0))\n",
    "print(a.pmf(k=3))\n",
    "print(a.pmf(k=5))\n",
    "\n",
    "# outputtaki e-08 ifadesi 10^(-8) çarpanını ifade eder.Yani sonuçta bir sıkıntı yoktur."
   ]
  },
  {
   "cell_type": "markdown",
   "id": "155f3ee8-15c5-4044-be15-726f8baec0cb",
   "metadata": {},
   "source": [
    "**NORMAL DAĞILIM:** Normal dağıldığı bilinen sürekli rassal değişkenler için olasılık hesaplaması için kullanılır.\n",
    "\n",
    "${\\displaystyle f(x\\mid \\mu ,\\sigma ^{2})={\\frac {1}{\\sqrt {2\\pi \\sigma ^{2}}}}e^{-{\\frac {(x-\\mu )^{2}}{2\\sigma ^{2}}}}}$\n",
    "\n",
    "* $x$  rassal değişkenin değeri\n",
    "\n",
    "* $\\mu$  ortalama ya da dağılımın beklenen değeri\n",
    "\n",
    "* ${\\displaystyle \\sigma }$  standart sapma\n",
    "\n",
    "* ${\\displaystyle \\sigma ^{2}}$ varyans"
   ]
  },
  {
   "cell_type": "markdown",
   "id": "0ab243a0-883d-438b-a3df-09eba3c79b14",
   "metadata": {},
   "source": [
    "[normaldağılımgrafiği](https://miro.medium.com/max/526/1*2dDFGiEWB37vaKPC-UMYBw.png)"
   ]
  },
  {
   "cell_type": "markdown",
   "id": "3c9a0139-9c2c-444c-9644-d9c63d04f55f",
   "metadata": {},
   "source": [
    ">* **Normal dağılım grafiğinin altında kalan olasılık 1 dir.**\n",
    ">* Herhangi bir sürekli dağılımın, **kesin bir değere ait olma olasılığı 0'dır.** Çünkü bu dağılımlar alanla ölçülür. Kesin değer verirseniz alan oluşmaz.\n",
    ">* Normal dağılımda **mod,medyan,ortalama birbirine eşittir.**\n",
    ">* cdf (kümülatif yoğunluk fonksiyonu) , **norm.cdf(hesaplanacak değer,ortalama,standart sap.)**"
   ]
  },
  {
   "cell_type": "code",
   "execution_count": 20,
   "id": "f1e7f593-b807-4614-b149-a127775f76fa",
   "metadata": {},
   "outputs": [],
   "source": [
    "from scipy.stats import norm"
   ]
  },
  {
   "cell_type": "code",
   "execution_count": 25,
   "id": "49a776eb-2ff0-4cde-9ce2-fc1aca27bba2",
   "metadata": {},
   "outputs": [
    {
     "data": {
      "text/plain": [
       "0.02275013194817921"
      ]
     },
     "execution_count": 25,
     "metadata": {},
     "output_type": "execute_result"
    }
   ],
   "source": [
    "# 90 dan fazla olması\n",
    "1-norm.cdf(90,80,5)      # cdf (kümülatif yoğunluk fonksiyonu) , norm.cdf(hesaplanacak değer,ortalama,standart sap.)"
   ]
  },
  {
   "cell_type": "code",
   "execution_count": 26,
   "id": "3a4ead63-3b91-483f-bebd-cbc706f72792",
   "metadata": {},
   "outputs": [
    {
     "data": {
      "text/plain": [
       "0.9772498680518208"
      ]
     },
     "execution_count": 26,
     "metadata": {},
     "output_type": "execute_result"
    }
   ],
   "source": [
    "# 70 den fazla olması\n",
    "1-norm.cdf(70,80,5)\n",
    "\n",
    "# ortalaması 80 zaten 70 den fazla olması yüksek ihtimal"
   ]
  },
  {
   "cell_type": "code",
   "execution_count": 27,
   "id": "2979613e-72fd-4a90-9191-4da6500e2dba",
   "metadata": {},
   "outputs": [
    {
     "data": {
      "text/plain": [
       "0.040059156863817086"
      ]
     },
     "execution_count": 27,
     "metadata": {},
     "output_type": "execute_result"
    }
   ],
   "source": [
    "# 73'den az olması\n",
    "norm.cdf(73,80,5)"
   ]
  },
  {
   "cell_type": "code",
   "execution_count": 28,
   "id": "2419250a-1bbe-4e6c-8a7b-000a3d6fcd20",
   "metadata": {},
   "outputs": [
    {
     "data": {
      "text/plain": [
       "0.13590512198327787"
      ]
     },
     "execution_count": 28,
     "metadata": {},
     "output_type": "execute_result"
    }
   ],
   "source": [
    "# 85 ile 90 arasında olması\n",
    "norm.cdf(90,80,5) - norm.cdf(85,80,5)"
   ]
  }
 ],
 "metadata": {
  "kernelspec": {
   "display_name": "Python 3 (ipykernel)",
   "language": "python",
   "name": "python3"
  },
  "language_info": {
   "codemirror_mode": {
    "name": "ipython",
    "version": 3
   },
   "file_extension": ".py",
   "mimetype": "text/x-python",
   "name": "python",
   "nbconvert_exporter": "python",
   "pygments_lexer": "ipython3",
   "version": "3.9.13"
  }
 },
 "nbformat": 4,
 "nbformat_minor": 5
}
